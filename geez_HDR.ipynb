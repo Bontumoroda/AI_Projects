{
 "cells": [
  {
   "cell_type": "markdown",
   "id": "e523bceb",
   "metadata": {},
   "source": [
    "### Import Packages"
   ]
  },
  {
   "cell_type": "code",
   "execution_count": null,
   "id": "91c8dfb9",
   "metadata": {},
   "outputs": [],
   "source": [
    "from tensorflow.keras.preprocessing.image import ImageDataGenerator\n",
    "from tensorflow.keras.preprocessing import image\n",
    "from tensorflow.keras.optimizers import Adam \n",
    "from keras.models import Sequential\n",
    "import matplotlib.pyplot as plt \n",
    "import tensorflow as tf \n",
    "import numpy as np"
   ]
  },
  {
   "cell_type": "markdown",
   "id": "675dd59e",
   "metadata": {},
   "source": [
    "### Data Augmentation and Preprocessing"
   ]
  },
  {
   "cell_type": "code",
   "execution_count": 2,
   "id": "48191422",
   "metadata": {},
   "outputs": [],
   "source": [
    "\n",
    "train_datagen = ImageDataGenerator(rescale = 1/255,\n",
    "                                shear_range=0.2,\n",
    "                                zoom_range=0.2,\n",
    "                                horizontal_flip=True\n",
    "                                  )\n",
    "validation_datagen = ImageDataGenerator(rescale = 1/255,\n",
    "                                shear_range=0.2,\n",
    "                                zoom_range=0.2,\n",
    "                                horizontal_flip=True)\n",
    "test_datagen = ImageDataGenerator(rescale = 1/255,\n",
    "                                shear_range=0.2,\n",
    "                                zoom_range=0.2,\n",
    "                                horizontal_flip=True)"
   ]
  },
  {
   "cell_type": "markdown",
   "id": "c3daed33",
   "metadata": {},
   "source": [
    "### train data"
   ]
  },
  {
   "cell_type": "code",
   "execution_count": 3,
   "id": "dbe8849c",
   "metadata": {},
   "outputs": [
    {
     "name": "stdout",
     "output_type": "stream",
     "text": [
      "Found 900 images belonging to 9 classes.\n"
     ]
    }
   ],
   "source": [
    "training_set  = train_datagen.flow_from_directory('am_numbers/train/',\n",
    "                                                target_size=(28,28),\n",
    "                                                batch_size=3,\n",
    "                                                class_mode='categorical'\n",
    "                                                 )"
   ]
  },
  {
   "cell_type": "markdown",
   "id": "a123c11a",
   "metadata": {},
   "source": [
    "### validation data"
   ]
  },
  {
   "cell_type": "code",
   "execution_count": 4,
   "id": "fe553c88",
   "metadata": {},
   "outputs": [
    {
     "name": "stdout",
     "output_type": "stream",
     "text": [
      "Found 288 images belonging to 9 classes.\n"
     ]
    }
   ],
   "source": [
    "\n",
    "validation_set  = validation_datagen.flow_from_directory('am_numbers/validation/',\n",
    "                                                target_size=(28,28),\n",
    "                                                batch_size=3,\n",
    "                                                class_mode='categorical')"
   ]
  },
  {
   "cell_type": "markdown",
   "id": "065477f9",
   "metadata": {},
   "source": [
    "### test data"
   ]
  },
  {
   "cell_type": "code",
   "execution_count": 5,
   "id": "885354a0",
   "metadata": {},
   "outputs": [
    {
     "name": "stdout",
     "output_type": "stream",
     "text": [
      "Found 288 images belonging to 9 classes.\n"
     ]
    }
   ],
   "source": [
    "\n",
    "test_set  = test_datagen.flow_from_directory('am_numbers/test/',\n",
    "                                                target_size=(28,28),\n",
    "                                                batch_size=3,\n",
    "                                                class_mode='categorical')"
   ]
  },
  {
   "cell_type": "markdown",
   "id": "4ba5c129",
   "metadata": {},
   "source": [
    "### class labels"
   ]
  },
  {
   "cell_type": "code",
   "execution_count": 6,
   "id": "136f472c",
   "metadata": {},
   "outputs": [
    {
     "data": {
      "text/plain": [
       "{'፩': 0, '፪': 1, '፫': 2, '፬': 3, '፭': 4, '፮': 5, '፯': 6, '፰': 7, '፱': 8}"
      ]
     },
     "execution_count": 6,
     "metadata": {},
     "output_type": "execute_result"
    }
   ],
   "source": [
    "training_set.class_indices"
   ]
  },
  {
   "cell_type": "markdown",
   "id": "3e88dfbf",
   "metadata": {},
   "source": [
    "## Build CNN Model"
   ]
  },
  {
   "cell_type": "code",
   "execution_count": 7,
   "id": "ce927772",
   "metadata": {},
   "outputs": [],
   "source": [
    "model = tf.keras.models.Sequential([\n",
    "    tf.keras.layers.Conv2D(16,(3,3), activation ='relu',input_shape=(28,28,3)),\n",
    "    tf.keras.layers.MaxPool2D(2,2),\n",
    "    tf.keras.layers.Conv2D(32,(3,3), activation='relu'),\n",
    "    tf.keras.layers.MaxPool2D(2,2),\n",
    "    tf.keras.layers.Conv2D(64,(3,3), activation='relu'),\n",
    "    tf.keras.layers.MaxPool2D(2,2),\n",
    "    tf.keras.layers.Flatten(),\n",
    "    tf.keras.layers.Dense(512,activation='relu'),\n",
    "    tf.keras.layers.Dense(9,activation='softmax'),   \n",
    "])"
   ]
  },
  {
   "cell_type": "code",
   "execution_count": 8,
   "id": "03948b40",
   "metadata": {},
   "outputs": [
    {
     "name": "stdout",
     "output_type": "stream",
     "text": [
      "Model: \"sequential\"\n",
      "_________________________________________________________________\n",
      " Layer (type)                Output Shape              Param #   \n",
      "=================================================================\n",
      " conv2d (Conv2D)             (None, 26, 26, 16)        448       \n",
      "                                                                 \n",
      " max_pooling2d (MaxPooling2D  (None, 13, 13, 16)       0         \n",
      " )                                                               \n",
      "                                                                 \n",
      " conv2d_1 (Conv2D)           (None, 11, 11, 32)        4640      \n",
      "                                                                 \n",
      " max_pooling2d_1 (MaxPooling  (None, 5, 5, 32)         0         \n",
      " 2D)                                                             \n",
      "                                                                 \n",
      " conv2d_2 (Conv2D)           (None, 3, 3, 64)          18496     \n",
      "                                                                 \n",
      " max_pooling2d_2 (MaxPooling  (None, 1, 1, 64)         0         \n",
      " 2D)                                                             \n",
      "                                                                 \n",
      " flatten (Flatten)           (None, 64)                0         \n",
      "                                                                 \n",
      " dense (Dense)               (None, 512)               33280     \n",
      "                                                                 \n",
      " dense_1 (Dense)             (None, 9)                 4617      \n",
      "                                                                 \n",
      "=================================================================\n",
      "Total params: 61,481\n",
      "Trainable params: 61,481\n",
      "Non-trainable params: 0\n",
      "_________________________________________________________________\n"
     ]
    }
   ],
   "source": [
    "model.summary()"
   ]
  },
  {
   "cell_type": "markdown",
   "id": "2b2f54c6",
   "metadata": {},
   "source": [
    "## Compile model"
   ]
  },
  {
   "cell_type": "code",
   "execution_count": 9,
   "id": "b9dea776",
   "metadata": {},
   "outputs": [],
   "source": [
    "model.compile(loss=tf.keras.losses.categorical_crossentropy,\n",
    "              optimizer=tf.keras.optimizers.Adam(),\n",
    "              metrics=['accuracy'])"
   ]
  },
  {
   "cell_type": "markdown",
   "id": "1c6e2dd6",
   "metadata": {},
   "source": [
    "## Train Model"
   ]
  },
  {
   "cell_type": "code",
   "execution_count": 10,
   "id": "90803ed7",
   "metadata": {},
   "outputs": [
    {
     "name": "stdout",
     "output_type": "stream",
     "text": [
      "Epoch 1/21\n",
      "300/300 [==============================] - 23s 64ms/step - loss: 1.9963 - accuracy: 0.2067 - val_loss: 1.5768 - val_accuracy: 0.4583\n",
      "Epoch 2/21\n",
      "300/300 [==============================] - 3s 10ms/step - loss: 0.9294 - accuracy: 0.6611 - val_loss: 0.6020 - val_accuracy: 0.7778\n",
      "Epoch 3/21\n",
      "300/300 [==============================] - 3s 9ms/step - loss: 0.6031 - accuracy: 0.7811 - val_loss: 0.5294 - val_accuracy: 0.8056\n",
      "Epoch 4/21\n",
      "300/300 [==============================] - 3s 9ms/step - loss: 0.4623 - accuracy: 0.8533 - val_loss: 0.3527 - val_accuracy: 0.9062\n",
      "Epoch 5/21\n",
      "300/300 [==============================] - 3s 9ms/step - loss: 0.3515 - accuracy: 0.8922 - val_loss: 0.2845 - val_accuracy: 0.9062\n",
      "Epoch 6/21\n",
      "300/300 [==============================] - 3s 8ms/step - loss: 0.2918 - accuracy: 0.9122 - val_loss: 0.2426 - val_accuracy: 0.9340\n",
      "Epoch 7/21\n",
      "300/300 [==============================] - 3s 9ms/step - loss: 0.2187 - accuracy: 0.9278 - val_loss: 0.1746 - val_accuracy: 0.9410\n",
      "Epoch 8/21\n",
      "300/300 [==============================] - 3s 10ms/step - loss: 0.2117 - accuracy: 0.9344 - val_loss: 0.2142 - val_accuracy: 0.9340\n",
      "Epoch 9/21\n",
      "300/300 [==============================] - 3s 9ms/step - loss: 0.1890 - accuracy: 0.9311 - val_loss: 0.2568 - val_accuracy: 0.9028\n",
      "Epoch 10/21\n",
      "300/300 [==============================] - 3s 9ms/step - loss: 0.2097 - accuracy: 0.9222 - val_loss: 0.1844 - val_accuracy: 0.9340\n",
      "Epoch 11/21\n",
      "300/300 [==============================] - 3s 9ms/step - loss: 0.1531 - accuracy: 0.9522 - val_loss: 0.1770 - val_accuracy: 0.9410\n",
      "Epoch 12/21\n",
      "300/300 [==============================] - 3s 8ms/step - loss: 0.1316 - accuracy: 0.9567 - val_loss: 0.1659 - val_accuracy: 0.9410\n",
      "Epoch 13/21\n",
      "300/300 [==============================] - 3s 10ms/step - loss: 0.1543 - accuracy: 0.9511 - val_loss: 0.3152 - val_accuracy: 0.8958\n",
      "Epoch 14/21\n",
      "300/300 [==============================] - 3s 10ms/step - loss: 0.1263 - accuracy: 0.9544 - val_loss: 0.2138 - val_accuracy: 0.9375\n",
      "Epoch 15/21\n",
      "300/300 [==============================] - 3s 8ms/step - loss: 0.1332 - accuracy: 0.9533 - val_loss: 0.0955 - val_accuracy: 0.9722\n",
      "Epoch 16/21\n",
      "300/300 [==============================] - 3s 8ms/step - loss: 0.1078 - accuracy: 0.9667 - val_loss: 0.1540 - val_accuracy: 0.9618\n",
      "Epoch 17/21\n",
      "300/300 [==============================] - 3s 8ms/step - loss: 0.1369 - accuracy: 0.9544 - val_loss: 0.0950 - val_accuracy: 0.9479\n",
      "Epoch 18/21\n",
      "300/300 [==============================] - 3s 8ms/step - loss: 0.1114 - accuracy: 0.9644 - val_loss: 0.0794 - val_accuracy: 0.9792\n",
      "Epoch 19/21\n",
      "300/300 [==============================] - 3s 10ms/step - loss: 0.1039 - accuracy: 0.9733 - val_loss: 0.0631 - val_accuracy: 0.9826\n",
      "Epoch 20/21\n",
      "300/300 [==============================] - 3s 10ms/step - loss: 0.0820 - accuracy: 0.9689 - val_loss: 0.1100 - val_accuracy: 0.9618\n",
      "Epoch 21/21\n",
      "300/300 [==============================] - 3s 9ms/step - loss: 0.0900 - accuracy: 0.9678 - val_loss: 0.1292 - val_accuracy: 0.9549\n"
     ]
    }
   ],
   "source": [
    "modelfit = model.fit(\n",
    "    training_set,\n",
    "    epochs = 12,\n",
    "    batch_size=75\n",
    "    validation_data=validation_set)"
   ]
  },
  {
   "cell_type": "markdown",
   "id": "20def6fd",
   "metadata": {},
   "source": [
    "## Test Model"
   ]
  },
  {
   "cell_type": "code",
   "execution_count": 11,
   "id": "5b486f66",
   "metadata": {},
   "outputs": [
    {
     "name": "stdout",
     "output_type": "stream",
     "text": [
      "9/9 [==============================] - 6s 736ms/step - loss: 0.1303 - accuracy: 0.9688\n"
     ]
    },
    {
     "data": {
      "text/plain": [
       "[0.13025790452957153, 0.96875]"
      ]
     },
     "execution_count": 11,
     "metadata": {},
     "output_type": "execute_result"
    }
   ],
   "source": [
    "model.evaluate(test_set)"
   ]
  },
  {
   "cell_type": "markdown",
   "id": "490378a7",
   "metadata": {},
   "source": [
    "## Creating a graphical user interface to draw the number"
   ]
  },
  {
   "cell_type": "code",
   "execution_count": 12,
   "id": "4d4588e4",
   "metadata": {},
   "outputs": [],
   "source": [
    "import PIL\n",
    "from PIL import ImageTk, ImageDraw, Image\n",
    "from tkinter import *\n",
    "from keras.preprocessing import image\n",
    "import os"
   ]
  },
  {
   "cell_type": "code",
   "execution_count": 13,
   "id": "42a96880",
   "metadata": {},
   "outputs": [],
   "source": [
    "def create_new_image():\n",
    "    width = 256\n",
    "    height = 256\n",
    "    center = height // 2\n",
    "    white = (255, 255, 255)\n",
    "    green = (0, 128, 0)\n",
    "    \n",
    "    def save():\n",
    "        filename = 'C:/Users/p/Desktop/ai-jupter/am_numbers/val/image.jpg'\n",
    "        image.save(filename)\n",
    "        \n",
    "    def paint(event):\n",
    "        x1, y1 = (event.x - 1), (event.y - 1)\n",
    "        x2, y2 = (event.x + 1), (event.y + 1)\n",
    "        cv.create_oval(x1, y1, x2, y2, fill = 'black', width = 30)\n",
    "        draw.line([x1, y1, x2, y2], fill = 'black', width = 30)\n",
    "        \n",
    "    root = Tk()\n",
    "    \n",
    "    cv = Canvas(root, width = width, height = height, bg = 'white')\n",
    "    cv.pack()\n",
    "    \n",
    "    image = PIL.Image.new('RGB', (width, height), white)\n",
    "    draw = ImageDraw.Draw(image)\n",
    "    \n",
    "    cv.pack(expand = YES, fill = BOTH)\n",
    "    cv.bind(\"<B1-Motion>\", paint)\n",
    "    \n",
    "    button = Button(text = 'Save', command = save)\n",
    "    button.pack()\n",
    "    \n",
    "    root.mainloop()"
   ]
  },
  {
   "cell_type": "code",
   "execution_count": 14,
   "id": "40e35b74",
   "metadata": {},
   "outputs": [],
   "source": [
    "def determine_number(res):\n",
    "    if res == 0:\n",
    "        print('ቁጥር : ፩  ነው')\n",
    "    elif res == 1:\n",
    "        print('ቁጥር : ፪ ነው')\n",
    "    elif res == 2:\n",
    "        print('ቁጥር : ፫ ነው')\n",
    "    elif res == 3:\n",
    "        print('ቁጥር : ፬ ነው')\n",
    "    elif res == 4:\n",
    "        print('ቁጥር : ፭ ነው')\n",
    "    elif res == 5:\n",
    "        print('ቁጥር : ፮ ነው')\n",
    "    elif res == 6:\n",
    "        print('ቁጥር : ፯ ነው')\n",
    "    elif res == 7:\n",
    "        print('ቁጥር : ፰ ነው')\n",
    "    elif res == 8:\n",
    "        print('ቁጥር : ፱ ነው')\n",
    "\n",
    " "
   ]
  },
  {
   "cell_type": "code",
   "execution_count": 15,
   "id": "33228ef1",
   "metadata": {},
   "outputs": [],
   "source": [
    "import numpy as np\n",
    "\n",
    "def single_classification(test_img):\n",
    "    test_img_arr = tf.keras.preprocessing.image.img_to_array(test_img)\n",
    "    test_img_arr = np.expand_dims(test_img_arr, axis = 0)\n",
    "    classification = model.predict(test_img_arr)\n",
    "    result = np.argmax(classification, axis = 1)\n",
    "    determine_number(result)"
   ]
  },
  {
   "cell_type": "code",
   "execution_count": 16,
   "id": "4f1cd517",
   "metadata": {},
   "outputs": [],
   "source": [
    "def delete_created_image():\n",
    "    os.remove('C:/Users/p/Desktop/ai-jupter/am_numbers/val/image.jpg')"
   ]
  },
  {
   "cell_type": "code",
   "execution_count": 17,
   "id": "2b24d56e",
   "metadata": {},
   "outputs": [],
   "source": [
    "import matplotlib.pyplot as plt\n",
    "\n",
    "def draw_n_guess_the_character():\n",
    "    create_new_image()\n",
    "    test_img = tf.keras.preprocessing.image.load_img('C:/Users/p/Desktop/ai-jupter/am_numbers/val/image.jpg', target_size = (28, 28, 3))\n",
    "    single_classification(test_img)\n",
    "    plt.imshow(test_img)\n",
    "    delete_created_image()"
   ]
  },
  {
   "cell_type": "code",
   "execution_count": null,
   "id": "01b24800",
   "metadata": {},
   "outputs": [
    {
     "name": "stdout",
     "output_type": "stream",
     "text": [
      "1/1 [==============================] - 0s 342ms/step\n",
      "ቁጥር : ፩  ነው\n"
     ]
    }
   ],
   "source": [
    "draw_n_guess_the_character()"
   ]
  },
  {
   "cell_type": "code",
   "execution_count": null,
   "id": "ce9f8161",
   "metadata": {},
   "outputs": [],
   "source": []
  },
  {
   "cell_type": "code",
   "execution_count": null,
   "id": "4cc8feff",
   "metadata": {},
   "outputs": [],
   "source": [
    "[yty]"
   ]
  }
 ],
 "metadata": {
  "kernelspec": {
   "display_name": "Python 3 (ipykernel)",
   "language": "python",
   "name": "python3"
  },
  "language_info": {
   "codemirror_mode": {
    "name": "ipython",
    "version": 3
   },
   "file_extension": ".py",
   "mimetype": "text/x-python",
   "name": "python",
   "nbconvert_exporter": "python",
   "pygments_lexer": "ipython3",
   "version": "3.9.13"
  }
 },
 "nbformat": 4,
 "nbformat_minor": 5
}
